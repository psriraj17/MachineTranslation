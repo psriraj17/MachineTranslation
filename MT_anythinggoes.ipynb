{
  "nbformat": 4,
  "nbformat_minor": 0,
  "metadata": {
    "colab": {
      "provenance": [],
      "machine_shape": "hm",
      "authorship_tag": "ABX9TyMStIGbnPcUGlvxA1dGa5uI",
      "include_colab_link": true
    },
    "kernelspec": {
      "name": "python3",
      "display_name": "Python 3"
    },
    "language_info": {
      "name": "python"
    },
    "accelerator": "GPU",
    "gpuClass": "standard"
  },
  "cells": [
    {
      "cell_type": "markdown",
      "metadata": {
        "id": "view-in-github",
        "colab_type": "text"
      },
      "source": [
        "<a href=\"https://colab.research.google.com/github/psriraj17/MachineTranslation/blob/main/MT_anythinggoes.ipynb\" target=\"_parent\"><img src=\"https://colab.research.google.com/assets/colab-badge.svg\" alt=\"Open In Colab\"/></a>"
      ]
    },
    {
      "cell_type": "code",
      "source": [
        "from google.colab import drive\n",
        "drive.mount('/content/drive')\n",
        "%cd /content/drive/'MyDrive'"
      ],
      "metadata": {
        "colab": {
          "base_uri": "https://localhost:8080/"
        },
        "id": "XaL8UBJFWdF_",
        "outputId": "9130316a-75fc-43d1-ca0c-eac15bdaf9a7"
      },
      "execution_count": null,
      "outputs": [
        {
          "output_type": "stream",
          "name": "stdout",
          "text": [
            "Mounted at /content/drive\n",
            "/content/drive/MyDrive\n"
          ]
        }
      ]
    },
    {
      "cell_type": "code",
      "execution_count": null,
      "metadata": {
        "id": "i79JzMk521Sc"
      },
      "outputs": [],
      "source": [
        "import collections\n",
        "from tqdm import tqdm\n",
        "import helper\n",
        "import numpy as np\n",
        "#import project_tests as tests\n",
        "from tensorflow import keras\n",
        "from keras.preprocessing.text import Tokenizer\n",
        "from keras_preprocessing.sequence import pad_sequences\n",
        "from keras.models import Model\n",
        "from keras.layers import GRU, Input, Dense, TimeDistributed, Activation, RepeatVector, Bidirectional\n",
        "from keras.layers import Embedding\n",
        "from keras.optimizers import Adam\n",
        "from keras.losses import sparse_categorical_crossentropy"
      ]
    },
    {
      "cell_type": "code",
      "source": [
        "def load_data(file):\n",
        "    print(\"Loading data from file {}...\".format(file))\n",
        "    file = open(file, 'r')\n",
        "    file = file.read()\n",
        "    all_data = []\n",
        "    cur_sent = []\n",
        "    for line in tqdm(file.split('\\n')):\n",
        "        if line == '<s>':\n",
        "            cur_sent = ''\n",
        "            continue\n",
        "        if line in '()':\n",
        "            continue\n",
        "        if line == '</s>':\n",
        "            all_data.append(cur_sent)\n",
        "            continue\n",
        "        else:\n",
        "            cur_sent += line.lower()\n",
        "            cur_sent += ' '\n",
        "\n",
        "    return all_data\n",
        "\n",
        "\n",
        "#source_data = helper.load_data('/content/drive/MyDrive/Colab Notebooks/train-05/train-source.txt')\n",
        "source_sentences = load_data(\"/content/drive/MyDrive/Colab Notebooks/train-05/train-source.txt\")\n",
        "target_sentences = load_data(\"/content/drive/MyDrive/Colab Notebooks/train-05/train-target.txt\")\n",
        "#taregt_data = helper.load_data('/content/drive/MyDrive/Colab Notebooks/train-05/train-target.txt')\n",
        "\n",
        "\n",
        "print('\\nDataset Loaded',source_sentences[0:10])"
      ],
      "metadata": {
        "id": "vU9IDjT_27f8",
        "colab": {
          "base_uri": "https://localhost:8080/"
        },
        "outputId": "59e2c45c-81bc-4c8b-b3c8-6b26d123f344"
      },
      "execution_count": 11,
      "outputs": [
        {
          "output_type": "stream",
          "name": "stdout",
          "text": [
            "Loading data from file /content/drive/MyDrive/Colab Notebooks/train-05/train-source.txt...\n"
          ]
        },
        {
          "output_type": "stream",
          "name": "stderr",
          "text": [
            "100%|██████████| 925535/925535 [00:00<00:00, 2204819.60it/s]\n"
          ]
        },
        {
          "output_type": "stream",
          "name": "stdout",
          "text": [
            "Loading data from file /content/drive/MyDrive/Colab Notebooks/train-05/train-target.txt...\n"
          ]
        },
        {
          "output_type": "stream",
          "name": "stderr",
          "text": [
            "100%|██████████| 910805/910805 [00:00<00:00, 2161934.92it/s]"
          ]
        },
        {
          "output_type": "stream",
          "name": "stdout",
          "text": [
            "\n",
            "Dataset Loaded ['cinnte go leór , thiocfadh dóbhtha bás a fhagháil ar imeall an phuill udaí . ', 'bhí sé follasach go rabh an poll sin ag foscladh ar an fhairrge ar dhóigh éigin , ná líonadh agus thráigheadh an t-uisce ann . ', \"d'fhéadfadh siad bás ' fhagháil ar a bhruach agus na cuirp imtheacht ar an lán mhara amach fríd an phluais . \", 'thiocfadh dóbhtha fosta lámh a chur ina mbás féin , a ghabháil de léim isteach sa pholl ghalach a bhí i n-iarthar an dara taibhlidh - poll mar bhéadh coire de uisce ghalach ann . ', \"' na dhiaidh sin , bhí rud éigin do-chreidte agus leamh in gach teóir de'n bheirt . \", 'nuair a scríobh siad an litir sin bhí siad araon i sláinte mhaith agus tréan bidh aca . ', 'bhí fhios againn i gceart nach rabh díothbhail ar bith ortha , na diomaoite de chuid bonnóg chathail tháinig muid ar an áit taiscthe a bhí aca - scealpach bheag eachar dhá charraic - agus arán agus spólaí de chaoir-fheóil shaillte ann . ', \"b'fhuras a fheiceáil cá dtáinig an chaoir-fheóil . \", 'ar urlár na h-uaimhe bhí cnámha caorach ar gearradh an fheóil anuas díobhtha . ', \"séard a b'éigean do'n chaoraigh a ghabháil le beinn agus tuitim fríd an sceilp anuas san uaimh . \"]\n"
          ]
        },
        {
          "output_type": "stream",
          "name": "stderr",
          "text": [
            "\n"
          ]
        }
      ]
    },
    {
      "cell_type": "code",
      "source": [
        "source_words_counter = collections.Counter([word for sentence in source_sentences for word in sentence])\n",
        "target_words_counter = collections.Counter([word for sentence in target_sentences for word in sentence])\n",
        "\n",
        "print('{} Source words.'.format(len([word for sentence in source_sentences for word in sentence])))\n",
        "print('{} unique Source words.'.format(len(source_words_counter)))\n",
        "print('10 Most common words in the Source dataset:')\n",
        "print('\"' + '\" \"'.join(list(zip(*source_words_counter.most_common(10)))[0]) + '\"')\n",
        "print()\n",
        "print('{} Target words.'.format(len([word for sentence in target_sentences for word in sentence])))\n",
        "print('{} unique Target words.'.format(len(target_words_counter)))\n",
        "print('10 Most common words in the Target dataset:')                \n",
        "print('\"' + '\" \"'.join(list(zip(*target_words_counter.most_common(10)))[0]) + '\"')"
      ],
      "metadata": {
        "id": "EKB0FQYn27dn",
        "colab": {
          "base_uri": "https://localhost:8080/"
        },
        "outputId": "26883451-e033-44c0-8aa6-c8923ca362c0"
      },
      "execution_count": null,
      "outputs": [
        {
          "output_type": "stream",
          "name": "stdout",
          "text": [
            "4127703 Source words.\n",
            "75 unique Source words.\n",
            "10 Most common words in the Source dataset:\n",
            "\" \" \"a\" \"h\" \"i\" \"n\" \"r\" \"s\" \"e\" \"d\" \"g\"\n",
            "\n",
            "3939531 Target words.\n",
            "62 unique Target words.\n",
            "10 Most common words in the Target dataset:\n",
            "\" \" \"a\" \"i\" \"h\" \"n\" \"r\" \"s\" \"e\" \"c\" \"t\"\n"
          ]
        }
      ]
    },
    {
      "cell_type": "code",
      "source": [
        "def tokenize(x):\n",
        "    \"\"\"\n",
        "    Tokenize x\n",
        "    :param x: List of sentences/strings to be tokenized\n",
        "    :return: Tuple of (tokenized x data, tokenizer used to tokenize x)\n",
        "    \"\"\"\n",
        "    # TODO: Implement\n",
        "    x_tk = Tokenizer(char_level = False)\n",
        "    x_tk.fit_on_texts(x)\n",
        "    return x_tk.texts_to_sequences(x), x_tk\n",
        "\n",
        "# Tokenize Example output\n",
        "text_sentences = [\n",
        "    'The quick brown fox jumps over the lazy dog .',\n",
        "    'By Jove , my quick study of lexicography won a prize .',\n",
        "    'This is a short sentence .']\n",
        "text_tokenized, text_tokenizer = tokenize(text_sentences)\n",
        "print(text_tokenizer.word_index)\n",
        "print()\n",
        "for sample_i, (sent, token_sent) in enumerate(zip(text_sentences, text_tokenized)):\n",
        "    print('Sequence {} in x'.format(sample_i + 1))\n",
        "    print('  Input:  {}'.format(sent))\n",
        "    print('  Output: {}'.format(token_sent))"
      ],
      "metadata": {
        "id": "JaXAsVTF27bh",
        "colab": {
          "base_uri": "https://localhost:8080/"
        },
        "outputId": "f0003652-6451-4e08-eaf4-ce95181dfe63"
      },
      "execution_count": null,
      "outputs": [
        {
          "output_type": "stream",
          "name": "stdout",
          "text": [
            "{'the': 1, 'quick': 2, 'a': 3, 'brown': 4, 'fox': 5, 'jumps': 6, 'over': 7, 'lazy': 8, 'dog': 9, 'by': 10, 'jove': 11, 'my': 12, 'study': 13, 'of': 14, 'lexicography': 15, 'won': 16, 'prize': 17, 'this': 18, 'is': 19, 'short': 20, 'sentence': 21}\n",
            "\n",
            "Sequence 1 in x\n",
            "  Input:  The quick brown fox jumps over the lazy dog .\n",
            "  Output: [1, 2, 4, 5, 6, 7, 1, 8, 9]\n",
            "Sequence 2 in x\n",
            "  Input:  By Jove , my quick study of lexicography won a prize .\n",
            "  Output: [10, 11, 12, 2, 13, 14, 15, 16, 3, 17]\n",
            "Sequence 3 in x\n",
            "  Input:  This is a short sentence .\n",
            "  Output: [18, 19, 3, 20, 21]\n"
          ]
        }
      ]
    },
    {
      "cell_type": "code",
      "source": [
        "def pad(x, length=None):\n",
        "    \"\"\"\n",
        "    Pad x\n",
        "    :param x: List of sequences.\n",
        "    :param length: Length to pad the sequence to.  If None, use length of longest sequence in x.\n",
        "    :return: Padded numpy array of sequences\n",
        "    \"\"\"\n",
        "    # TODO: Implement\n",
        "    if length is None:\n",
        "        length = max([len(sentence) for sentence in x])\n",
        "    return pad_sequences(x, maxlen = length, padding = 'post')\n",
        "\n",
        "'''tests.test_pad(pad)\n",
        "\n",
        "# Pad Tokenized output\n",
        "test_pad = pad(text_tokenized)\n",
        "for sample_i, (token_sent, pad_sent) in enumerate(zip(text_tokenized, test_pad)):\n",
        "    print('Sequence {} in x'.format(sample_i + 1))\n",
        "    print('  Input:  {}'.format(np.array(token_sent)))\n",
        "    print('  Output: {}'.format(pad_sent))\n",
        "    '''"
      ],
      "metadata": {
        "id": "z06aop1o27Zc",
        "colab": {
          "base_uri": "https://localhost:8080/",
          "height": 71
        },
        "outputId": "fcd7c8dd-297b-411f-c0cd-c46a9f98b016"
      },
      "execution_count": null,
      "outputs": [
        {
          "output_type": "execute_result",
          "data": {
            "text/plain": [
              "\"tests.test_pad(pad)\\n\\n# Pad Tokenized output\\ntest_pad = pad(text_tokenized)\\nfor sample_i, (token_sent, pad_sent) in enumerate(zip(text_tokenized, test_pad)):\\n    print('Sequence {} in x'.format(sample_i + 1))\\n    print('  Input:  {}'.format(np.array(token_sent)))\\n    print('  Output: {}'.format(pad_sent))\\n    \""
            ],
            "application/vnd.google.colaboratory.intrinsic+json": {
              "type": "string"
            }
          },
          "metadata": {},
          "execution_count": 6
        }
      ]
    },
    {
      "cell_type": "code",
      "source": [
        "def preprocess(x, y):\n",
        "    \"\"\"\n",
        "    Preprocess x and y\n",
        "    :param x: Feature List of sentences\n",
        "    :param y: Label List of sentences\n",
        "    :return: Tuple of (Preprocessed x, Preprocessed y, x tokenizer, y tokenizer)\n",
        "    \"\"\"\n",
        "    preprocess_x, x_tk = tokenize(x)\n",
        "    preprocess_y, y_tk = tokenize(y)\n",
        "\n",
        "    preprocess_x = pad(preprocess_x)\n",
        "    preprocess_y = pad(preprocess_y)\n",
        "\n",
        "    # Keras's sparse_categorical_crossentropy function requires the labels to be in 3 dimensions\n",
        "    preprocess_y = preprocess_y.reshape(*preprocess_y.shape, 1)\n",
        "\n",
        "    return preprocess_x, preprocess_y, x_tk, y_tk\n",
        "\n",
        "preproc_source_sentences, preproc_target_sentences, source_tokenizer, target_tokenizer =\\\n",
        "    preprocess(source_sentences, target_sentences)\n",
        "    \n",
        "max_source_sequence_length = preproc_source_sentences.shape[1]\n",
        "max_target_sequence_length = preproc_target_sentences.shape[1]\n",
        "source_vocab_size = len(source_tokenizer.word_index)\n",
        "target_vocab_size = len(target_tokenizer.word_index)\n",
        "\n",
        "print('Data Preprocessed')\n",
        "print(\"Max English sentence length:\", max_source_sequence_length)\n",
        "print(\"Max French sentence length:\", max_target_sequence_length)\n",
        "print(\"English vocabulary size:\", source_vocab_size)\n",
        "print(\"French vocabulary size:\", target_vocab_size)"
      ],
      "metadata": {
        "id": "rUQ13zxX27XG",
        "colab": {
          "base_uri": "https://localhost:8080/"
        },
        "outputId": "f34f8ad3-9a5a-4cd3-be0f-e2ad54fa1b95"
      },
      "execution_count": null,
      "outputs": [
        {
          "output_type": "stream",
          "name": "stdout",
          "text": [
            "Data Preprocessed\n",
            "Max English sentence length: 215\n",
            "Max French sentence length: 213\n",
            "English vocabulary size: 27496\n",
            "French vocabulary size: 24967\n"
          ]
        }
      ]
    },
    {
      "cell_type": "code",
      "source": [
        "def logits_to_text(logits, tokenizer):\n",
        "    \"\"\"\n",
        "    Turn logits from a neural network into text using the tokenizer\n",
        "    :param logits: Logits from a neural network\n",
        "    :param tokenizer: Keras Tokenizer fit on the labels\n",
        "    :return: String that represents the text of the logits\n",
        "    \"\"\"\n",
        "    index_to_words = {id: word for word, id in tokenizer.word_index.items()}\n",
        "    index_to_words[0] = ''\n",
        "\n",
        "    return ' '.join([index_to_words[prediction] for prediction in np.argmax(logits, 1)])\n",
        "\n",
        "print('`logits_to_text` function loaded.')"
      ],
      "metadata": {
        "id": "FNOCFSpt27Uw",
        "colab": {
          "base_uri": "https://localhost:8080/"
        },
        "outputId": "96ac4d30-c93f-467f-ba58-9ff896e9a949"
      },
      "execution_count": null,
      "outputs": [
        {
          "output_type": "stream",
          "name": "stdout",
          "text": [
            "`logits_to_text` function loaded.\n"
          ]
        }
      ]
    },
    {
      "cell_type": "code",
      "source": [
        "def model_final(input_shape, output_sequence_length, source_vocab_size, target_vocab_size):\n",
        "    \"\"\"\n",
        "    Build and train a model that incorporates embedding, encoder-decoder, and bidirectional RNN on x and y\n",
        "    :param input_shape: Tuple of input shape\n",
        "    :param output_sequence_length: Length of output sequence\n",
        "    :param english_vocab_size: Number of unique English words in the dataset\n",
        "    :param french_vocab_size: Number of unique French words in the dataset\n",
        "    :return: Keras model built, but not trained\n",
        "    \"\"\"\n",
        "    # TODO: Implement\n",
        "    model = keras.models.Sequential()\n",
        "    model.add(Embedding(input_dim=source_vocab_size,output_dim=128,input_length=input_shape[1]))\n",
        "    model.add(Bidirectional(GRU(256,return_sequences=False)))\n",
        "    model.add(RepeatVector(output_sequence_length))\n",
        "    model.add(Bidirectional(GRU(256,return_sequences=True)))\n",
        "    model.add(Dense(target_vocab_size,activation='softmax'))\n",
        "    learning_rate = 0.005\n",
        "    \n",
        "    model.compile(loss = sparse_categorical_crossentropy, \n",
        "                 optimizer = Adam(learning_rate), \n",
        "                 metrics = ['accuracy'])\n",
        "    \n",
        "    return model\n",
        "#tests.test_model_final(model_final)\n",
        "\n",
        "\n",
        "print('Final Model Loaded')\n",
        "# TODO: Train the final model"
      ],
      "metadata": {
        "id": "yrzi3AY_27SJ",
        "colab": {
          "base_uri": "https://localhost:8080/"
        },
        "outputId": "f6f9d200-8eed-4472-b405-965793196ccb"
      },
      "execution_count": null,
      "outputs": [
        {
          "output_type": "stream",
          "name": "stdout",
          "text": [
            "Final Model Loaded\n"
          ]
        }
      ]
    },
    {
      "cell_type": "code",
      "source": [
        "def final_predictions(x, y, x_tk, y_tk):\n",
        "    \"\"\"\n",
        "    Gets predictions using the final model\n",
        "    :param x: Preprocessed English data\n",
        "    :param y: Preprocessed French data\n",
        "    :param x_tk: English tokenizer\n",
        "    :param y_tk: French tokenizer\n",
        "    \"\"\"\n",
        "    # TODO: Train neural network using model_final\n",
        "    tmp_X = pad(preproc_source_sentences)\n",
        "    model = model_final(tmp_X.shape,\n",
        "                        preproc_target_sentences.shape[1],\n",
        "                        len(source_tokenizer.word_index)+1,\n",
        "                        len(target_tokenizer.word_index)+1)\n",
        "    \n",
        "    model.fit(tmp_X, preproc_target_sentences, batch_size = 100, epochs = 10, validation_split = 0.2)\n",
        " \n",
        "    return model"
      ],
      "metadata": {
        "id": "f1L_f-4A27Nu"
      },
      "execution_count": 18,
      "outputs": []
    },
    {
      "cell_type": "code",
      "source": [
        "model = final_predictions(preproc_source_sentences, preproc_target_sentences, source_tokenizer, target_tokenizer)"
      ],
      "metadata": {
        "colab": {
          "base_uri": "https://localhost:8080/"
        },
        "id": "s3lOX2QFAi5g",
        "outputId": "e7e876d3-3f2f-42bc-aa1a-327ba77a21da"
      },
      "execution_count": null,
      "outputs": [
        {
          "output_type": "stream",
          "name": "stdout",
          "text": [
            "Epoch 1/10\n",
            "362/362 [==============================] - 295s 802ms/step - loss: 0.6822 - accuracy: 0.9220 - val_loss: 0.5165 - val_accuracy: 0.9336\n",
            "Epoch 2/10\n",
            " 14/362 [>.............................] - ETA: 4:08 - loss: 0.5936 - accuracy: 0.9245"
          ]
        }
      ]
    },
    {
      "cell_type": "code",
      "source": [
        "## DON'T EDIT ANYTHING BELOW THIS LINE\n",
        "    \n",
        "\n",
        "y_id_to_word = {value: key for key, value in target_tokenizer.word_index.items()}\n",
        "y_id_to_word[0] = ''\n",
        "\n",
        "sentence = 'cinnte go leór , thiocfadh dóbhtha bás a fhagháil ar imeall an phuill udaí .'\n",
        "sentence = [source_tokenizer.word_index[word] for word in sentence.split()]\n",
        "sentence = pad_sequences([sentence], maxlen=preproc_source_sentences.shape[-1], padding='post')\n",
        "sentences = np.array([sentence[0], preproc_source_sentences[0]])\n",
        "predictions = model.predict(sentences, len(sentences))\n",
        "\n",
        "print('Sample 1:')\n",
        "print(' '.join([y_id_to_word[np.argmax(x)] for x in predictions[0]]))\n",
        "    #print('Il a vu un vieux camion jaune')\n",
        "print('Sample 2:')\n",
        "print(' '.join([y_id_to_word[np.argmax(x)] for x in predictions[1]]))\n",
        "print(' '.join([y_id_to_word[np.max(x)] for x in preproc_target_sentences[0]]))\n",
        "\n",
        "\n"
      ],
      "metadata": {
        "colab": {
          "base_uri": "https://localhost:8080/",
          "height": 133
        },
        "id": "csjKbZN-_EWQ",
        "outputId": "31dde08c-e8ee-468c-aa17-28a448664657"
      },
      "execution_count": 14,
      "outputs": [
        {
          "output_type": "error",
          "ename": "IndentationError",
          "evalue": "ignored",
          "traceback": [
            "\u001b[0;36m  File \u001b[0;32m\"<ipython-input-14-d3441e106db3>\"\u001b[0;36m, line \u001b[0;32m2\u001b[0m\n\u001b[0;31m    y_id_to_word = {value: key for key, value in y_tk.word_index.items()}\u001b[0m\n\u001b[0m    ^\u001b[0m\n\u001b[0;31mIndentationError\u001b[0m\u001b[0;31m:\u001b[0m unexpected indent\n"
          ]
        }
      ]
    },
    {
      "cell_type": "code",
      "source": [],
      "metadata": {
        "id": "UFx5s6zG27LZ"
      },
      "execution_count": null,
      "outputs": []
    }
  ]
}